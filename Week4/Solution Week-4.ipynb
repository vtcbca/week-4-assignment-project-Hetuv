{
 "cells": [
  {
   "cell_type": "code",
   "execution_count": 1,
   "id": "77ec5666",
   "metadata": {},
   "outputs": [],
   "source": [
    "import sqlite3\n",
    "con=sqlite3.connect('c:\\\\sqlite3\\\\contact_management_system.db')\n",
    "cur=con.cursor()"
   ]
  },
  {
   "cell_type": "markdown",
   "id": "4ec0a922",
   "metadata": {},
   "source": [
    "# create tables"
   ]
  },
  {
   "cell_type": "code",
   "execution_count": 2,
   "id": "1ee2f832",
   "metadata": {},
   "outputs": [],
   "source": [
    "def create_table():\n",
    "    try:\n",
    "        cur.execute(\"CREATE TABLE CONTACT(fname text,\\\n",
    "            lname text,\\\n",
    "            email text,\\\n",
    "            contact number,\\\n",
    "            city text);\")\n",
    "        cur.execute(\"create table insert_log(\\\n",
    "            fname text,\\\n",
    "            lname text,\\\n",
    "            contact number,\\\n",
    "            email text,\\\n",
    "            city text,\\\n",
    "            insert_time text);\")\n",
    "        cur.execute(\"create table update_log(\\\n",
    "            old_fname text,\\\n",
    "            new_fname text,\\\n",
    "            old_lname text,\\\n",
    "            new_lname text,\\\n",
    "            old_contact number,\\\n",
    "            new_contact number,\\\n",
    "            old_email text,\\\n",
    "            new_email text,\\\n",
    "            old_city text,\\\n",
    "            new_city text,\\\n",
    "            update_time text);\")\n",
    "        cur.execute(\"create table delete_log(\\\n",
    "            fname text,\\\n",
    "            lname text,\\\n",
    "            contact number,\\\n",
    "            email text,\\\n",
    "            city text,\\\n",
    "            delete_time text);\")\n",
    "    except error as e:\n",
    "        print(e)"
   ]
  },
  {
   "cell_type": "code",
   "execution_count": 3,
   "id": "c394678d",
   "metadata": {},
   "outputs": [],
   "source": [
    "create_table()"
   ]
  },
  {
   "cell_type": "markdown",
   "id": "806e1230",
   "metadata": {},
   "source": [
    "# create trigger for validate email and contact number"
   ]
  },
  {
   "cell_type": "code",
   "execution_count": 4,
   "id": "9a00c591",
   "metadata": {},
   "outputs": [
    {
     "data": {
      "text/plain": [
       "<sqlite3.Cursor at 0x2ded407af40>"
      ]
     },
     "execution_count": 4,
     "metadata": {},
     "output_type": "execute_result"
    }
   ],
   "source": [
    "cur.execute(\"CREATE TRIGGER IF NOT EXISTS validate_email_before_insert\\\n",
    "   BEFORE INSERT ON CONTACT\\\n",
    "   BEGIN\\\n",
    "   SELECT\\\n",
    "      CASE\\\n",
    "          WHEN NEW.email NOT LIKE '%@%.%' THEN\\\n",
    "          RAISE(ABORT,'Invalid email address')\\\n",
    "          WHEN length(new.contact)>10 OR length(new.contact)<10 THEN\\\n",
    "          RAISE(ABORT,'Invalid contact number,input contact number in proper length')\\\n",
    "      END;\\\n",
    "    END;\")"
   ]
  },
  {
   "cell_type": "markdown",
   "id": "a3fbeabd",
   "metadata": {},
   "source": [
    "# create trigger for maintain log for insert,update and delete data information"
   ]
  },
  {
   "cell_type": "code",
   "execution_count": 5,
   "id": "58f7cb36",
   "metadata": {},
   "outputs": [
    {
     "data": {
      "text/plain": [
       "<sqlite3.Cursor at 0x2ded407af40>"
      ]
     },
     "execution_count": 5,
     "metadata": {},
     "output_type": "execute_result"
    }
   ],
   "source": [
    "cur.execute(\"CREATE TRIGGER IF NOT EXISTS insert_log AFTER INSERT ON CONTACT\\\n",
    "            BEGIN\\\n",
    "                INSERT INTO insert_log VALUES (new.fname,new.lname,new.email,new.contact,new.city,datetime('now'));\\\n",
    "            END;\")"
   ]
  },
  {
   "cell_type": "code",
   "execution_count": 6,
   "id": "8716b800",
   "metadata": {},
   "outputs": [
    {
     "data": {
      "text/plain": [
       "<sqlite3.Cursor at 0x2ded407af40>"
      ]
     },
     "execution_count": 6,
     "metadata": {},
     "output_type": "execute_result"
    }
   ],
   "source": [
    "cur.execute(\"CREATE TRIGGER IF NOT EXISTS update_log AFTER UPDATE ON CONTACT\\\n",
    "            BEGIN\\\n",
    "                INSERT INTO update_log VALUES\\\n",
    "                (old.fname,new.fname,old.lname,new.lname,old.contact,new.contact,old.email,new.email,old.city,new.city,datetime('now'));\\\n",
    "            END;\")"
   ]
  },
  {
   "cell_type": "code",
   "execution_count": 7,
   "id": "48a5f575",
   "metadata": {},
   "outputs": [
    {
     "data": {
      "text/plain": [
       "<sqlite3.Cursor at 0x2ded407af40>"
      ]
     },
     "execution_count": 7,
     "metadata": {},
     "output_type": "execute_result"
    }
   ],
   "source": [
    "cur.execute(\"CREATE TRIGGER IF NOT EXISTS delete_log AFTER DELETE ON CONTACT\\\n",
    "            BEGIN\\\n",
    "                INSERT INTO delete_log VALUES (old.fname,old.lname,old.contact,old.email,old.city,datetime('now'));\\\n",
    "            END;\")"
   ]
  },
  {
   "cell_type": "markdown",
   "id": "cdc0374e",
   "metadata": {},
   "source": [
    "# Testing of all triggers........"
   ]
  },
  {
   "cell_type": "markdown",
   "id": "b24aa714",
   "metadata": {},
   "source": [
    "### record successfully instert because of correct email formate"
   ]
  },
  {
   "cell_type": "code",
   "execution_count": 8,
   "id": "e8a7b70a",
   "metadata": {},
   "outputs": [
    {
     "data": {
      "text/plain": [
       "<sqlite3.Cursor at 0x2ded407af40>"
      ]
     },
     "execution_count": 8,
     "metadata": {},
     "output_type": "execute_result"
    }
   ],
   "source": [
    "cur.execute(\"INSERT INTO CONTACT VALUES('GORI','RADHA','radhag@kanha.com',9900099000,'SURAT'),\\\n",
    "('DAYAL','DEV','devdayal@gmail.com',9909099090,'DWARKA'),\\\n",
    "('RAMA','SITA','sitaram@gmail.com',8909089090,'KASHI'),\\\n",
    "('DAYA','RAM','dayaram@yahoo.com',9109091090,'MATHURA')\")"
   ]
  },
  {
   "cell_type": "markdown",
   "id": "706878a6",
   "metadata": {},
   "source": [
    "### it shows error because of wrong email formate and impropper contact number"
   ]
  },
  {
   "cell_type": "code",
   "execution_count": 9,
   "id": "f719ef83",
   "metadata": {},
   "outputs": [
    {
     "ename": "IntegrityError",
     "evalue": "Invalid email address",
     "output_type": "error",
     "traceback": [
      "\u001b[1;31m---------------------------------------------------------------------------\u001b[0m",
      "\u001b[1;31mIntegrityError\u001b[0m                            Traceback (most recent call last)",
      "Cell \u001b[1;32mIn[9], line 1\u001b[0m\n\u001b[1;32m----> 1\u001b[0m \u001b[43mcur\u001b[49m\u001b[38;5;241;43m.\u001b[39;49m\u001b[43mexecute\u001b[49m\u001b[43m(\u001b[49m\u001b[38;5;124;43m\"\u001b[39;49m\u001b[38;5;124;43mINSERT INTO CONTACT VALUES(\u001b[39;49m\u001b[38;5;124;43m'\u001b[39;49m\u001b[38;5;124;43mVISHV\u001b[39;49m\u001b[38;5;124;43m'\u001b[39;49m\u001b[38;5;124;43m,\u001b[39;49m\u001b[38;5;124;43m'\u001b[39;49m\u001b[38;5;124;43mNATH\u001b[39;49m\u001b[38;5;124;43m'\u001b[39;49m\u001b[38;5;124;43m,\u001b[39;49m\u001b[38;5;124;43m'\u001b[39;49m\u001b[38;5;124;43mvnath1@gmailcom\u001b[39;49m\u001b[38;5;124;43m'\u001b[39;49m\u001b[38;5;124;43m,8909089090,\u001b[39;49m\u001b[38;5;124;43m'\u001b[39;49m\u001b[38;5;124;43mVRINDAVAN\u001b[39;49m\u001b[38;5;124;43m'\u001b[39;49m\u001b[38;5;124;43m)\u001b[39;49m\u001b[38;5;124;43m\"\u001b[39;49m\u001b[43m)\u001b[49m\n",
      "\u001b[1;31mIntegrityError\u001b[0m: Invalid email address"
     ]
    }
   ],
   "source": [
    "cur.execute(\"INSERT INTO CONTACT VALUES('VISHV','NATH','vnath1@gmailcom',8909089090,'VRINDAVAN')\")"
   ]
  },
  {
   "cell_type": "code",
   "execution_count": 10,
   "id": "e28746ea",
   "metadata": {},
   "outputs": [
    {
     "ename": "IntegrityError",
     "evalue": "Invalid contact number,input contact number in proper length",
     "output_type": "error",
     "traceback": [
      "\u001b[1;31m---------------------------------------------------------------------------\u001b[0m",
      "\u001b[1;31mIntegrityError\u001b[0m                            Traceback (most recent call last)",
      "Cell \u001b[1;32mIn[10], line 1\u001b[0m\n\u001b[1;32m----> 1\u001b[0m \u001b[43mcur\u001b[49m\u001b[38;5;241;43m.\u001b[39;49m\u001b[43mexecute\u001b[49m\u001b[43m(\u001b[49m\u001b[38;5;124;43m\"\u001b[39;49m\u001b[38;5;124;43mINSERT INTO CONTACT VALUES(\u001b[39;49m\u001b[38;5;124;43m'\u001b[39;49m\u001b[38;5;124;43mVISHV\u001b[39;49m\u001b[38;5;124;43m'\u001b[39;49m\u001b[38;5;124;43m,\u001b[39;49m\u001b[38;5;124;43m'\u001b[39;49m\u001b[38;5;124;43mNATH\u001b[39;49m\u001b[38;5;124;43m'\u001b[39;49m\u001b[38;5;124;43m,\u001b[39;49m\u001b[38;5;124;43m'\u001b[39;49m\u001b[38;5;124;43mvnath1@gmail.com\u001b[39;49m\u001b[38;5;124;43m'\u001b[39;49m\u001b[38;5;124;43m,890908909,\u001b[39;49m\u001b[38;5;124;43m'\u001b[39;49m\u001b[38;5;124;43mVRINDAVAN\u001b[39;49m\u001b[38;5;124;43m'\u001b[39;49m\u001b[38;5;124;43m)\u001b[39;49m\u001b[38;5;124;43m\"\u001b[39;49m\u001b[43m)\u001b[49m\n",
      "\u001b[1;31mIntegrityError\u001b[0m: Invalid contact number,input contact number in proper length"
     ]
    }
   ],
   "source": [
    "cur.execute(\"INSERT INTO CONTACT VALUES('VISHV','NATH','vnath1@gmail.com',890908909,'VRINDAVAN')\")"
   ]
  },
  {
   "cell_type": "markdown",
   "id": "e6dc07ff",
   "metadata": {},
   "source": [
    "### printing all inserted records"
   ]
  },
  {
   "cell_type": "code",
   "execution_count": 11,
   "id": "3503642e",
   "metadata": {},
   "outputs": [
    {
     "name": "stdout",
     "output_type": "stream",
     "text": [
      "fname     lname     email               contact        city\n",
      "GORI      RADHA     radhag@kanha.com    9900099000     SURAT\n",
      "DAYAL     DEV       devdayal@gmail.com  9909099090     DWARKA\n",
      "RAMA      SITA      sitaram@gmail.com   8909089090     KASHI\n",
      "DAYA      RAM       dayaram@yahoo.com   9109091090     MATHURA\n"
     ]
    }
   ],
   "source": [
    "cur.execute(\"SELECT * FROM CONTACT\")\n",
    "r=cur.fetchall()\n",
    "h=['fname','lname','email','contact','city']\n",
    "print(f'{h[0]: <10}{h[1]: <10}{h[2]: <20}{h[3]: <15}{h[4]}')\n",
    "for i in r:\n",
    "    print(f'{i[0]: <10}{i[1]: <10}{i[2]: <20}{i[3]: <15}{i[4]}')"
   ]
  },
  {
   "cell_type": "markdown",
   "id": "1f5e636c",
   "metadata": {},
   "source": [
    "### records in inser_log table"
   ]
  },
  {
   "cell_type": "code",
   "execution_count": 12,
   "id": "59b9dff3",
   "metadata": {},
   "outputs": [
    {
     "name": "stdout",
     "output_type": "stream",
     "text": [
      "fname     lname     email               contact        city      insert_time\n",
      "GORI      RADHA     radhag@kanha.com    9900099000     SURAT     2023-08-14 12:44:15\n",
      "DAYAL     DEV       devdayal@gmail.com  9909099090     DWARKA    2023-08-14 12:44:15\n",
      "RAMA      SITA      sitaram@gmail.com   8909089090     KASHI     2023-08-14 12:44:15\n",
      "DAYA      RAM       dayaram@yahoo.com   9109091090     MATHURA   2023-08-14 12:44:15\n"
     ]
    }
   ],
   "source": [
    "cur.execute(\"SELECT * FROM insert_log\")\n",
    "record=cur.fetchall()\n",
    "h=['fname','lname','email','contact','city','insert_time']\n",
    "print(f'{h[0]: <10}{h[1]: <10}{h[2]: <20}{h[3]: <15}{h[4]: <10}{h[5]}')\n",
    "for i in record:\n",
    "    print(f'{i[0]: <10}{i[1]: <10}{i[2]: <20}{i[3]: <15}{i[4]: <10}{i[5]}')"
   ]
  },
  {
   "cell_type": "markdown",
   "id": "8040a747",
   "metadata": {},
   "source": [
    "### update 1 record"
   ]
  },
  {
   "cell_type": "code",
   "execution_count": 13,
   "id": "38dc6568",
   "metadata": {},
   "outputs": [
    {
     "data": {
      "text/plain": [
       "<sqlite3.Cursor at 0x2ded407af40>"
      ]
     },
     "execution_count": 13,
     "metadata": {},
     "output_type": "execute_result"
    }
   ],
   "source": [
    "cur.execute(\"UPDATE CONTACT SET city='GOKUL' WHERE fname='GORI'\")\n",
    "cur.execute(\"UPDATE CONTACT SET fname='RAM' WHERE fname='RAMA'\")"
   ]
  },
  {
   "cell_type": "markdown",
   "id": "9d6de078",
   "metadata": {},
   "source": [
    "### records in update_log table"
   ]
  },
  {
   "cell_type": "code",
   "execution_count": 14,
   "id": "a3cc1fcd",
   "metadata": {},
   "outputs": [
    {
     "name": "stdout",
     "output_type": "stream",
     "text": [
      "oldfname newfname oldlname newlname oldcontact newcontact oldemail         newemail         oldcity newcity update_time\n",
      "GORI     GORI     RADHA    RADHA    9900099000 9900099000 radhag@kanha.com radhag@kanha.com SURAT   GOKUL   2023-08-14 12:44:28\n",
      "RAMA     RAM      SITA     SITA     8909089090 8909089090 sitaram@gmail.comsitaram@gmail.comKASHI   KASHI   2023-08-14 12:44:28\n"
     ]
    }
   ],
   "source": [
    "cur.execute(\"SELECT * FROM update_log\")\n",
    "record=cur.fetchall()\n",
    "h=['oldfname','newfname','oldlname','newlname','oldcontact','newcontact','oldemail','newemail','oldcity','newcity','update_time']\n",
    "print(f'{h[0]: <9}{h[1]: <9}{h[2]: <9}{h[3]: <9}{h[4]: <11}{h[5]: <11}{h[6]: <17}{h[7]: <17}{h[8]: <8}{h[9]: <8}{h[10]}')\n",
    "for i in record:\n",
    "    print(f'{i[0]: <9}{i[1]: <9}{i[2]: <9}{i[3]: <9}{i[4]: <11}{i[5]: <11}{i[6]: <17}{i[7]: <17}{i[8]: <8}{i[9]: <8}{i[10]}')"
   ]
  },
  {
   "cell_type": "markdown",
   "id": "ba4426a5",
   "metadata": {},
   "source": [
    "### delete 1 record"
   ]
  },
  {
   "cell_type": "code",
   "execution_count": 15,
   "id": "d09587f9",
   "metadata": {},
   "outputs": [
    {
     "data": {
      "text/plain": [
       "<sqlite3.Cursor at 0x2ded407af40>"
      ]
     },
     "execution_count": 15,
     "metadata": {},
     "output_type": "execute_result"
    }
   ],
   "source": [
    "cur.execute(\"DELETE FROM CONTACT WHERE fname='DAYA'\")"
   ]
  },
  {
   "cell_type": "markdown",
   "id": "d6c2e138",
   "metadata": {},
   "source": [
    "### records in delete_log table"
   ]
  },
  {
   "cell_type": "code",
   "execution_count": 16,
   "id": "cf909aa3",
   "metadata": {},
   "outputs": [
    {
     "name": "stdout",
     "output_type": "stream",
     "text": [
      "fname     lname     contact        email               city      delete_time\n",
      "DAYA      RAM       9109091090     dayaram@yahoo.com   MATHURA   2023-08-14 12:44:34\n"
     ]
    }
   ],
   "source": [
    "cur.execute(\"SELECT * FROM delete_log\")\n",
    "record=cur.fetchall()\n",
    "h=['fname','lname','contact','email','city','delete_time']\n",
    "print(f'{h[0]: <10}{h[1]: <10}{h[2]: <15}{h[3]: <20}{h[4]: <10}{h[5]}')\n",
    "for i in record:\n",
    "    print(f'{i[0]: <10}{i[1]: <10}{i[2]: <15}{i[3]: <20}{i[4]: <10}{i[5]}')"
   ]
  },
  {
   "cell_type": "code",
   "execution_count": 17,
   "id": "55dbad62",
   "metadata": {},
   "outputs": [],
   "source": [
    "con.commit()"
   ]
  },
  {
   "cell_type": "markdown",
   "id": "e493e2cb",
   "metadata": {},
   "source": [
    "# CREATING MAIN PART OF CONTACT MANAGEMENT SYSTEM"
   ]
  },
  {
   "cell_type": "code",
   "execution_count": 18,
   "id": "a3adb43d",
   "metadata": {},
   "outputs": [],
   "source": [
    "def insert():\n",
    "    try:\n",
    "        print('\\nEnter your new contact detail...')\n",
    "        l=[]\n",
    "        firstname=input(\"Enter first name:\")\n",
    "        lastname=input(\"Enter last name:\")\n",
    "        email=input(\"Enter email address:\")\n",
    "        contact=int(input(\"Enter contact number:\"))\n",
    "        city=input(\"Enter city:\")\n",
    "        r=(firstname,lastname,email,contact,city)\n",
    "        l.append(r)   \n",
    "        q=\"INSERT INTO CONTACT VALUES(?,?,?,?,?)\"\n",
    "        cur.executemany(q,l)\n",
    "        print('Record Inserted successfully :)\\n')\n",
    "    except error as e:\n",
    "        print(e)"
   ]
  },
  {
   "cell_type": "code",
   "execution_count": 19,
   "id": "4109d777",
   "metadata": {},
   "outputs": [],
   "source": [
    "def update():\n",
    "    try:\n",
    "        print(\"\\nWhich column you want to update?\\n1=firstname,2=lastname,3=email,4=contact,5=city\")\n",
    "        c=int(input(\"Enter your choice number:\"))\n",
    "        if c==1:\n",
    "            old=input(\"Enter your old First name:\")\n",
    "            new=input(\"Enter your new First name:\")\n",
    "            q=\"update contact set fname='\"+new+\"' where fname='\"+old+\"'\"\n",
    "        elif c==2:\n",
    "            old=input(\"Enter your old Last name:\")\n",
    "            new=input(\"Enter your new Last name:\")\n",
    "            q=\"update contact set lname='\"+new+\"' where lname='\"+old+\"'\"\n",
    "        elif c==3:\n",
    "            old=input(\"Enter your old Email name:\")\n",
    "            new=input(\"Enter your new Email:\")\n",
    "            q=\"update contact set email='\"+new+\"' where email='\"+old+\"'\"\n",
    "        elif c==4:\n",
    "            old=input(\"Enter your old Contact number:\")\n",
    "            new=input(\"Enter your new Contact number:\")\n",
    "            q='update contact set contact='+new+' where contact='+old\n",
    "        elif c==5:\n",
    "            old=input(\"Enter your old City name:\")\n",
    "            new=input(\"Enter your new City name:\")\n",
    "            q=\"update contact set city='\"+new+\"' where city='\"+old+\"'\"\n",
    "        else:\n",
    "            print('Invalid choice....!')\n",
    "        cur.execute(q)\n",
    "        print('Record Updated successfully :)\\n')\n",
    "    except error as e:\n",
    "        print(e)"
   ]
  },
  {
   "cell_type": "code",
   "execution_count": 20,
   "id": "cdec4195",
   "metadata": {},
   "outputs": [],
   "source": [
    "def delete():\n",
    "    try:\n",
    "        print(\"\\nWhich contact you want to delete...?\")\n",
    "        cur.execute(\"SELECT * FROM CONTACT\")\n",
    "        r=cur.fetchall()\n",
    "        h=['fname','lname','email','contact','city']\n",
    "        print(f'{h[0]: <10}{h[1]: <10}{h[2]: <20}{h[3]: <15}{h[4]}')\n",
    "        for i in r:\n",
    "            print(f'{i[0]: <10}{i[1]: <10}{i[2]: <20}{i[3]: <15}{i[4]}')\n",
    "        c=input('Enter the fname of contact which you want to delete:')\n",
    "        q=\"DELETE FROM CONTACT WHERE fname='\"+c+\"'\"\n",
    "        cur.execute(q)\n",
    "        print()\n",
    "    except error as e:\n",
    "        print(e)"
   ]
  },
  {
   "cell_type": "code",
   "execution_count": 21,
   "id": "66f8d732",
   "metadata": {},
   "outputs": [],
   "source": [
    "def search():\n",
    "    try:\n",
    "        print()\n",
    "        s=input(\"Enter the first name of contact which you want to search:\")\n",
    "        q=\"SELECT * FROM CONTACT WHERE fname='\"+s+\"'\"\n",
    "        cur.execute(q)\n",
    "        r=cur.fetchall()\n",
    "        print(r)\n",
    "        print()\n",
    "    except error as e:\n",
    "        print(e)"
   ]
  },
  {
   "cell_type": "code",
   "execution_count": 22,
   "id": "2aac329c",
   "metadata": {},
   "outputs": [],
   "source": [
    "def pprint():\n",
    "    try:\n",
    "        cur.execute(\"SELECT * FROM CONTACT\")\n",
    "        r=cur.fetchall()\n",
    "        h=['fname','lname','email','contact','city']\n",
    "        print(f'{h[0]: <10}{h[1]: <10}{h[2]: <20}{h[3]: <15}{h[4]}')\n",
    "        for i in r:\n",
    "            print(f'{i[0]: <10}{i[1]: <10}{i[2]: <20}{i[3]: <15}{i[4]}') \n",
    "    except error as e:\n",
    "        print(e)"
   ]
  },
  {
   "cell_type": "code",
   "execution_count": 23,
   "id": "c02255f1",
   "metadata": {},
   "outputs": [
    {
     "name": "stdout",
     "output_type": "stream",
     "text": [
      "\n",
      "What you want to do with your contacts...?\n",
      " 1.Insert new contact\n",
      " 2.Update contact\n",
      " 3.Delete contact\n",
      " 4.Search contact\n",
      " 5.Print all contact detail\n",
      "Enter your choice number:5\n",
      "fname     lname     email               contact        city\n",
      "GORI      RADHA     radhag@kanha.com    9900099000     GOKUL\n",
      "DAYAL     DEV       devdayal@gmail.com  9909099090     DWARKA\n",
      "RAM       SITA      sitaram@gmail.com   8909089090     KASHI\n",
      " 1.Insert new contact\n",
      " 2.Update contact\n",
      " 3.Delete contact\n",
      " 4.Search contact\n",
      " 5.Print all contact detail                \n",
      "If you want to continue...then re-enter your choice number end if don't want to continue then enter 0:1\n",
      "\n",
      "Enter your new contact detail...\n",
      "Enter first name:hetvi\n",
      "Enter last name:dd\n",
      "Enter email address:hd@gmail.com\n",
      "Enter contact number:8887776665\n",
      "Enter city:surat\n",
      "Record Inserted successfully :)\n",
      "\n",
      " 1.Insert new contact\n",
      " 2.Update contact\n",
      " 3.Delete contact\n",
      " 4.Search contact\n",
      " 5.Print all contact detail                \n",
      "If you want to continue...then re-enter your choice number end if don't want to continue then enter 0:5\n",
      "fname     lname     email               contact        city\n",
      "GORI      RADHA     radhag@kanha.com    9900099000     GOKUL\n",
      "DAYAL     DEV       devdayal@gmail.com  9909099090     DWARKA\n",
      "RAM       SITA      sitaram@gmail.com   8909089090     KASHI\n",
      "hetvi     dd        hd@gmail.com        8887776665     surat\n",
      " 1.Insert new contact\n",
      " 2.Update contact\n",
      " 3.Delete contact\n",
      " 4.Search contact\n",
      " 5.Print all contact detail                \n",
      "If you want to continue...then re-enter your choice number end if don't want to continue then enter 0:2\n",
      "\n",
      "Which column you want to update?\n",
      "1=firstname,2=lastname,3=email,4=contact,5=city\n",
      "Enter your choice number:2\n",
      "Enter your old Last name:dd\n",
      "Enter your new Last name:patel\n",
      "Record Updated successfully :)\n",
      "\n",
      " 1.Insert new contact\n",
      " 2.Update contact\n",
      " 3.Delete contact\n",
      " 4.Search contact\n",
      " 5.Print all contact detail                \n",
      "If you want to continue...then re-enter your choice number end if don't want to continue then enter 0:5\n",
      "fname     lname     email               contact        city\n",
      "GORI      RADHA     radhag@kanha.com    9900099000     GOKUL\n",
      "DAYAL     DEV       devdayal@gmail.com  9909099090     DWARKA\n",
      "RAM       SITA      sitaram@gmail.com   8909089090     KASHI\n",
      "hetvi     patel     hd@gmail.com        8887776665     surat\n",
      " 1.Insert new contact\n",
      " 2.Update contact\n",
      " 3.Delete contact\n",
      " 4.Search contact\n",
      " 5.Print all contact detail                \n",
      "If you want to continue...then re-enter your choice number end if don't want to continue then enter 0:3\n",
      "\n",
      "Which contact you want to delete...?\n",
      "fname     lname     email               contact        city\n",
      "GORI      RADHA     radhag@kanha.com    9900099000     GOKUL\n",
      "DAYAL     DEV       devdayal@gmail.com  9909099090     DWARKA\n",
      "RAM       SITA      sitaram@gmail.com   8909089090     KASHI\n",
      "hetvi     patel     hd@gmail.com        8887776665     surat\n",
      "Enter the fname of contact which you want to delete:hetvi\n",
      "\n",
      " 1.Insert new contact\n",
      " 2.Update contact\n",
      " 3.Delete contact\n",
      " 4.Search contact\n",
      " 5.Print all contact detail                \n",
      "If you want to continue...then re-enter your choice number end if don't want to continue then enter 0:5\n",
      "fname     lname     email               contact        city\n",
      "GORI      RADHA     radhag@kanha.com    9900099000     GOKUL\n",
      "DAYAL     DEV       devdayal@gmail.com  9909099090     DWARKA\n",
      "RAM       SITA      sitaram@gmail.com   8909089090     KASHI\n",
      " 1.Insert new contact\n",
      " 2.Update contact\n",
      " 3.Delete contact\n",
      " 4.Search contact\n",
      " 5.Print all contact detail                \n",
      "If you want to continue...then re-enter your choice number end if don't want to continue then enter 0:4\n",
      "\n",
      "Enter the first name of contact which you want to search:RAM\n",
      "[('RAM', 'SITA', 'sitaram@gmail.com', 8909089090, 'KASHI')]\n",
      "\n",
      " 1.Insert new contact\n",
      " 2.Update contact\n",
      " 3.Delete contact\n",
      " 4.Search contact\n",
      " 5.Print all contact detail                \n",
      "If you want to continue...then re-enter your choice number end if don't want to continue then enter 0:0\n"
     ]
    }
   ],
   "source": [
    "print('\\nWhat you want to do with your contacts...?')\n",
    "print(\" 1.Insert new contact\\n 2.Update contact\\n 3.Delete contact\\n 4.Search contact\\n 5.Print all contact detail\")\n",
    "x=int(input(\"Enter your choice number:\"))\n",
    "while (x!=0):\n",
    "    if x==1:\n",
    "        insert()\n",
    "    elif x==2:\n",
    "        update()\n",
    "    elif x==3:\n",
    "        delete()\n",
    "    elif x==4:\n",
    "        search()\n",
    "    elif x==5:\n",
    "        pprint()\n",
    "    else:\n",
    "        print(\"Invalide choice....!\")\n",
    "    x=int(input(\" 1.Insert new contact\\n 2.Update contact\\n 3.Delete contact\\n 4.Search contact\\n 5.Print all contact detail\\\n",
    "                \\nIf you want to continue...then re-enter your choice number end if don't want to continue then enter 0:\"))"
   ]
  }
 ],
 "metadata": {
  "kernelspec": {
   "display_name": "Python 3 (ipykernel)",
   "language": "python",
   "name": "python3"
  },
  "language_info": {
   "codemirror_mode": {
    "name": "ipython",
    "version": 3
   },
   "file_extension": ".py",
   "mimetype": "text/x-python",
   "name": "python",
   "nbconvert_exporter": "python",
   "pygments_lexer": "ipython3",
   "version": "3.11.2"
  }
 },
 "nbformat": 4,
 "nbformat_minor": 5
}
