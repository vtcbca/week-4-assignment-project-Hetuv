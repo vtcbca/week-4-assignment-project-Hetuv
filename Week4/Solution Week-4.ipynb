{
 "cells": [
  {
   "cell_type": "code",
   "execution_count": 1,
   "id": "77ec5666",
   "metadata": {},
   "outputs": [],
   "source": [
    "import sqlite3\n",
    "con=sqlite3.connect('c:\\\\sqlite3\\\\contact_management_system.db')\n",
    "cur=con.cursor()"
   ]
  },
  {
   "cell_type": "markdown",
   "id": "4ec0a922",
   "metadata": {},
   "source": [
    "# create tables"
   ]
  },
  {
   "cell_type": "code",
   "execution_count": null,
   "id": "269ae3ad",
   "metadata": {},
   "outputs": [],
   "source": [
    "cur.execute(\"CREATE TABLE CONTACT(fname text,\\\n",
    "lname text,\\\n",
    "email text,\\\n",
    "contact number,\\\n",
    "city text);\")"
   ]
  },
  {
   "cell_type": "code",
   "execution_count": null,
   "id": "1ee2f832",
   "metadata": {},
   "outputs": [],
   "source": [
    "cur.execute(\"create table insert_log(\\\n",
    "            fname text,\\\n",
    "            lname text,\\\n",
    "            contact number,\\\n",
    "            email text,\\\n",
    "            city text,\\\n",
    "            insert_time text);\")\n",
    "\n",
    "cur.execute(\"create table update_log(\\\n",
    "            old_fname text,\\\n",
    "            new_fname text,\\\n",
    "            old_lname text,\\\n",
    "            new_lname text,\\\n",
    "            old_contact number,\\\n",
    "            new_contact number,\\\n",
    "            old_email text,\\\n",
    "            new_email text,\\\n",
    "            old_city text,\\\n",
    "            new_city text,\\\n",
    "            update_time text);\")\n",
    "\n",
    "cur.execute(\"create table delete_log(\\\n",
    "            fname text,\\\n",
    "            lname text,\\\n",
    "            contact number,\\\n",
    "            email text,\\\n",
    "            city text,\\\n",
    "            delete_time text);\")"
   ]
  },
  {
   "cell_type": "markdown",
   "id": "806e1230",
   "metadata": {},
   "source": [
    "# create trigger for validate email"
   ]
  },
  {
   "cell_type": "code",
   "execution_count": null,
   "id": "9a00c591",
   "metadata": {},
   "outputs": [],
   "source": [
    "cur.execute(\"CREATE TRIGGER IF NOT EXISTS validate_email_before_insert\\\n",
    "   BEFORE INSERT ON CONTACT\\\n",
    "   BEGIN\\\n",
    "   SELECT\\\n",
    "      CASE\\\n",
    "          WHEN NEW.email NOT LIKE '%@%.%' THEN\\\n",
    "          RAISE(ABORT,'Invalid email address')\\\n",
    "      END;\\\n",
    "    END;\")"
   ]
  },
  {
   "cell_type": "markdown",
   "id": "a3fbeabd",
   "metadata": {},
   "source": [
    "# create trigger for maintain log for insert,update and delete data information"
   ]
  },
  {
   "cell_type": "code",
   "execution_count": null,
   "id": "58f7cb36",
   "metadata": {},
   "outputs": [],
   "source": [
    "cur.execute(\"CREATE TRIGGER IF NOT EXISTS insert_log AFTER INSERT ON CONTACT\\\n",
    "            BEGIN\\\n",
    "                INSERT INTO insert_log VALUES (new.fname,new.lname,new.email,new.contact,new.city,datetime('now'));\\\n",
    "            END;\")"
   ]
  },
  {
   "cell_type": "code",
   "execution_count": null,
   "id": "8716b800",
   "metadata": {},
   "outputs": [],
   "source": [
    "cur.execute(\"CREATE TRIGGER IF NOT EXISTS update_log AFTER UPDATE ON CONTACT\\\n",
    "            BEGIN\\\n",
    "                INSERT INTO update_log VALUES\\\n",
    "                (old.fname,new.fname,old.lname,new.lname,old.contact,new.contact,old.email,new.email,old.city,new.city,datetime('now'));\\\n",
    "            END;\")"
   ]
  },
  {
   "cell_type": "code",
   "execution_count": null,
   "id": "48a5f575",
   "metadata": {},
   "outputs": [],
   "source": [
    "cur.execute(\"CREATE TRIGGER IF NOT EXISTS delete_log AFTER DELETE ON CONTACT\\\n",
    "            BEGIN\\\n",
    "                INSERT INTO delete_log VALUES (old.fname,old.lname,old.contact,old.email,old.city,datetime('now'));\\\n",
    "            END;\")"
   ]
  },
  {
   "cell_type": "markdown",
   "id": "b24aa714",
   "metadata": {},
   "source": [
    "# record successfully instert because of correct email formate"
   ]
  },
  {
   "cell_type": "code",
   "execution_count": 2,
   "id": "e8a7b70a",
   "metadata": {},
   "outputs": [
    {
     "data": {
      "text/plain": [
       "<sqlite3.Cursor at 0x1ce30dcafc0>"
      ]
     },
     "execution_count": 2,
     "metadata": {},
     "output_type": "execute_result"
    }
   ],
   "source": [
    "cur.execute(\"INSERT INTO CONTACT VALUES('GORI','RADHA','radhag@kanha.com',9900099000,'SURAT'),\\\n",
    "('DAYAL','DEV','devdayal@gmail.com',9909099090,'DWARKA'),\\\n",
    "('DAYA','RAM','dayaram@yahoo.com',9109091090,'MATHURA')\")"
   ]
  },
  {
   "cell_type": "markdown",
   "id": "706878a6",
   "metadata": {},
   "source": [
    "# it shows error because of wrong email formate"
   ]
  },
  {
   "cell_type": "code",
   "execution_count": 3,
   "id": "f719ef83",
   "metadata": {},
   "outputs": [
    {
     "ename": "IntegrityError",
     "evalue": "Invalid email address",
     "output_type": "error",
     "traceback": [
      "\u001b[1;31m---------------------------------------------------------------------------\u001b[0m",
      "\u001b[1;31mIntegrityError\u001b[0m                            Traceback (most recent call last)",
      "Cell \u001b[1;32mIn[3], line 1\u001b[0m\n\u001b[1;32m----> 1\u001b[0m \u001b[43mcur\u001b[49m\u001b[38;5;241;43m.\u001b[39;49m\u001b[43mexecute\u001b[49m\u001b[43m(\u001b[49m\u001b[38;5;124;43m\"\u001b[39;49m\u001b[38;5;124;43mINSERT INTO CONTACT VALUES(\u001b[39;49m\u001b[38;5;124;43m'\u001b[39;49m\u001b[38;5;124;43mVISHV\u001b[39;49m\u001b[38;5;124;43m'\u001b[39;49m\u001b[38;5;124;43m,\u001b[39;49m\u001b[38;5;124;43m'\u001b[39;49m\u001b[38;5;124;43mNATH\u001b[39;49m\u001b[38;5;124;43m'\u001b[39;49m\u001b[38;5;124;43m,\u001b[39;49m\u001b[38;5;124;43m'\u001b[39;49m\u001b[38;5;124;43mvnath1@gmailcom\u001b[39;49m\u001b[38;5;124;43m'\u001b[39;49m\u001b[38;5;124;43m,8909089090,\u001b[39;49m\u001b[38;5;124;43m'\u001b[39;49m\u001b[38;5;124;43mVRINDAVAN\u001b[39;49m\u001b[38;5;124;43m'\u001b[39;49m\u001b[38;5;124;43m)\u001b[39;49m\u001b[38;5;124;43m\"\u001b[39;49m\u001b[43m)\u001b[49m\n",
      "\u001b[1;31mIntegrityError\u001b[0m: Invalid email address"
     ]
    }
   ],
   "source": [
    "cur.execute(\"INSERT INTO CONTACT VALUES('VISHV','NATH','vnath1@gmailcom',8909089090,'VRINDAVAN')\")"
   ]
  },
  {
   "cell_type": "markdown",
   "id": "d71b401a",
   "metadata": {},
   "source": [
    "# printing all inserted records"
   ]
  },
  {
   "cell_type": "code",
   "execution_count": 4,
   "id": "3503642e",
   "metadata": {},
   "outputs": [
    {
     "name": "stdout",
     "output_type": "stream",
     "text": [
      "fname     lname     email               contact        city\n",
      "GORI      RADHA     radhag@kanha.com    9900099000     SURAT\n",
      "DAYAL     DEV       devdayal@gmail.com  9909099090     DWARKA\n",
      "DAYA      RAM       dayaram@yahoo.com   9109091090     MATHURA\n"
     ]
    }
   ],
   "source": [
    "cur.execute(\"SELECT * FROM CONTACT\")\n",
    "r=cur.fetchall()\n",
    "h=['fname','lname','email','contact','city']\n",
    "print(f'{h[0]: <10}{h[1]: <10}{h[2]: <20}{h[3]: <15}{h[4]}')\n",
    "for i in r:\n",
    "    print(f'{i[0]: <10}{i[1]: <10}{i[2]: <20}{i[3]: <15}{i[4]}')"
   ]
  },
  {
   "cell_type": "markdown",
   "id": "bfe5a517",
   "metadata": {},
   "source": [
    "# records in inser_log table"
   ]
  },
  {
   "cell_type": "code",
   "execution_count": 5,
   "id": "59b9dff3",
   "metadata": {},
   "outputs": [
    {
     "name": "stdout",
     "output_type": "stream",
     "text": [
      "fname     lname     email               contact        city      insert_time\n",
      "GORI      RADHA     radhag@kanha.com    9900099000     SURAT     2023-08-13 10:51:03\n",
      "DAYAL     DEV       devdayal@gmail.com  9909099090     DWARKA    2023-08-13 10:51:03\n",
      "DAYA      RAM       dayaram@yahoo.com   9109091090     MATHURA   2023-08-13 10:51:03\n"
     ]
    }
   ],
   "source": [
    "cur.execute(\"SELECT * FROM insert_log\")\n",
    "record=cur.fetchall()\n",
    "h=['fname','lname','email','contact','city','insert_time']\n",
    "print(f'{h[0]: <10}{h[1]: <10}{h[2]: <20}{h[3]: <15}{h[4]: <10}{h[5]}')\n",
    "for i in record:\n",
    "    print(f'{i[0]: <10}{i[1]: <10}{i[2]: <20}{i[3]: <15}{i[4]: <10}{i[5]}')"
   ]
  },
  {
   "cell_type": "markdown",
   "id": "0a67506b",
   "metadata": {},
   "source": [
    "# update 1 record"
   ]
  },
  {
   "cell_type": "code",
   "execution_count": 6,
   "id": "38dc6568",
   "metadata": {},
   "outputs": [
    {
     "data": {
      "text/plain": [
       "<sqlite3.Cursor at 0x1ce30dcafc0>"
      ]
     },
     "execution_count": 6,
     "metadata": {},
     "output_type": "execute_result"
    }
   ],
   "source": [
    "cur.execute(\"UPDATE CONTACT SET city='GOKUL' WHERE fname='GORI'\")"
   ]
  },
  {
   "cell_type": "markdown",
   "id": "1ea1b6ad",
   "metadata": {},
   "source": [
    "# records in update_log table"
   ]
  },
  {
   "cell_type": "code",
   "execution_count": 7,
   "id": "a3cc1fcd",
   "metadata": {},
   "outputs": [
    {
     "name": "stdout",
     "output_type": "stream",
     "text": [
      "oldfname newfname oldlname newlname oldcontact newcontact oldemail         newemail         oldcity newcity update_time\n",
      "GORI     GORI     RADHA    RADHA    9900099000 9900099000 radhag@kanha.com radhag@kanha.com SURAT   GOKUL   2023-08-13 10:51:15\n"
     ]
    }
   ],
   "source": [
    "cur.execute(\"SELECT * FROM update_log\")\n",
    "record=cur.fetchall()\n",
    "h=['oldfname','newfname','oldlname','newlname','oldcontact','newcontact','oldemail','newemail','oldcity','newcity','update_time']\n",
    "print(f'{h[0]: <9}{h[1]: <9}{h[2]: <9}{h[3]: <9}{h[4]: <11}{h[5]: <11}{h[6]: <17}{h[7]: <17}{h[8]: <8}{h[9]: <8}{h[10]}')\n",
    "for i in record:\n",
    "    print(f'{i[0]: <9}{i[1]: <9}{i[2]: <9}{i[3]: <9}{i[4]: <11}{i[5]: <11}{i[6]: <17}{i[7]: <17}{i[8]: <8}{i[9]: <8}{i[10]}')"
   ]
  },
  {
   "cell_type": "markdown",
   "id": "e9332ca5",
   "metadata": {},
   "source": [
    "# delete 1 record"
   ]
  },
  {
   "cell_type": "code",
   "execution_count": 8,
   "id": "d09587f9",
   "metadata": {},
   "outputs": [
    {
     "data": {
      "text/plain": [
       "<sqlite3.Cursor at 0x1ce30dcafc0>"
      ]
     },
     "execution_count": 8,
     "metadata": {},
     "output_type": "execute_result"
    }
   ],
   "source": [
    "cur.execute(\"DELETE FROM CONTACT WHERE fname='DAYA'\")"
   ]
  },
  {
   "cell_type": "markdown",
   "id": "a611db93",
   "metadata": {},
   "source": [
    "# records in delete_log table"
   ]
  },
  {
   "cell_type": "code",
   "execution_count": 9,
   "id": "cf909aa3",
   "metadata": {},
   "outputs": [
    {
     "name": "stdout",
     "output_type": "stream",
     "text": [
      "fname     lname     contact        email               city      delete_time\n",
      "DAYA      RAM       9109091090     dayaram@yahoo.com   MATHURA   2023-08-13 10:51:21\n"
     ]
    }
   ],
   "source": [
    "cur.execute(\"SELECT * FROM delete_log\")\n",
    "record=cur.fetchall()\n",
    "h=['fname','lname','contact','email','city','delete_time']\n",
    "print(f'{h[0]: <10}{h[1]: <10}{h[2]: <15}{h[3]: <20}{h[4]: <10}{h[5]}')\n",
    "for i in record:\n",
    "    print(f'{i[0]: <10}{i[1]: <10}{i[2]: <15}{i[3]: <20}{i[4]: <10}{i[5]}')"
   ]
  },
  {
   "cell_type": "code",
   "execution_count": 10,
   "id": "fc261b38",
   "metadata": {},
   "outputs": [],
   "source": [
    "con.commit()"
   ]
  },
  {
   "cell_type": "code",
   "execution_count": 11,
   "id": "2c9a7e5a",
   "metadata": {},
   "outputs": [],
   "source": [
    "con.close()"
   ]
  }
 ],
 "metadata": {
  "kernelspec": {
   "display_name": "Python 3 (ipykernel)",
   "language": "python",
   "name": "python3"
  },
  "language_info": {
   "codemirror_mode": {
    "name": "ipython",
    "version": 3
   },
   "file_extension": ".py",
   "mimetype": "text/x-python",
   "name": "python",
   "nbconvert_exporter": "python",
   "pygments_lexer": "ipython3",
   "version": "3.11.2"
  }
 },
 "nbformat": 4,
 "nbformat_minor": 5
}
